{
 "cells": [
  {
   "cell_type": "markdown",
   "metadata": {},
   "source": [
    "**Name:** \n",
    "\n",
    "**EID:** \n",
    "\n",
    "**Kaggle Team Name:** "
   ]
  },
  {
   "cell_type": "markdown",
   "metadata": {},
   "source": [
    "# CS4487 - Course Project: Aerial Cactus Identification"
   ]
  },
  {
   "cell_type": "markdown",
   "metadata": {},
   "source": [
    "## Goal\n",
    "In this project, your goal is to train a classifier to predict whether an input image contains cactus.\n",
    "\n",
    "\n",
    "## Methodology\n",
    "You need to train classifiers using the training data, and then predict on the test data. You are free to choose the feature extraction method and classifier algorithm.  You are free to use methods that were not introduced in class.  You should probably do cross-validation to select a good parameters.\n",
    "\n",
    "\n",
    "## Evaluation on Kaggle\n",
    "\n",
    "You need to submit your test predictions to Kaggle for evaluation.  50% of the test data will be used to show your ranking on the live leaderboard.  After the assignment deadline, the remaining 50% will be used to calculate your final ranking. \n",
    "\n",
    "To submit to Kaggle you need to create an account, and use the competition invitation that will be posted on Canvas.\n",
    "\n",
    "**Note:** You can only submit 2 times per day to Kaggle!\n",
    "\n",
    "\n",
    "\n",
    "## Kaggle Notebooks\n",
    "\n",
    "You can use Kaggle notebooks to run your code. This ipynb has also been uploaded to the Kaggle competition site. "
   ]
  },
  {
   "cell_type": "markdown",
   "metadata": {},
   "source": [
    "# Load the Data"
   ]
  },
  {
   "cell_type": "markdown",
   "metadata": {},
   "source": [
    "The class labels `\"1\"` for images containing cactus and `\"0\"` for others.\n",
    "\n",
    "To submit to Kaggle, you need to generate a Kaggle submission files, which is CSV file with the following format. `'id'` is the file name of the input image: \n",
    "\n",
    "<pre>\n",
    "Id,Prediction\n",
    "cactus_0181_18.jpg,1\n",
    "Sinplanta.4365.jpg,0\n",
    "...\n",
    "</pre>"
   ]
  },
  {
   "cell_type": "markdown",
   "metadata": {},
   "source": [
    "Here are two helpful functions for reading the data and writing the Kaggle submission file."
   ]
  },
  {
   "cell_type": "code",
   "execution_count": 1,
   "metadata": {},
   "outputs": [],
   "source": [
    "%matplotlib inline\n",
    "import IPython.core.display         \n",
    "# setup output image format (Chrome works best)\n",
    "IPython.core.display.set_matplotlib_formats(\"svg\")\n",
    "import matplotlib.pyplot as plt\n",
    "import matplotlib\n",
    "from numpy import *\n",
    "from sklearn import *\n",
    "from glob import glob\n",
    "from scipy import stats\n",
    "import csv\n",
    "random.seed(100)"
   ]
  },
  {
   "cell_type": "code",
   "execution_count": 37,
   "metadata": {},
   "outputs": [],
   "source": [
    "def read_train_data():\n",
    "    cactus_imgs = glob(\"training_set/training_set/cactus/*\")\n",
    "    cactus_labels = ones(len(cactus_imgs), dtype=int)\n",
    "    nocactus_imgs = glob(\"training_set/training_set/no_cactus/*\")\n",
    "    nocactus_labels = zeros(len(nocactus_imgs), dtype=int)\n",
    "\n",
    "    train_X = cactus_imgs + nocactus_imgs\n",
    "    train_Y = hstack((cactus_labels, nocactus_labels))\n",
    "    return train_X, train_Y\n",
    "\n",
    "def read_test_data():\n",
    "    return glob(\"validation_set/*/*/*\")\n",
    "\n",
    "def write_csv_kaggle_sub(fname, X, Y):\n",
    "    # fname = file name\n",
    "    # X is a list with image names\n",
    "    # Y is a list/array with class entries\n",
    "    \n",
    "    # header\n",
    "    tmp = [['Id', 'Prediction']]\n",
    "    \n",
    "    # add ID numbers for each Y\n",
    "    for x,y in zip(X, Y):\n",
    "        tmp2 = [x, y]\n",
    "        tmp.append(tmp2)\n",
    "        \n",
    "    # write CSV file\n",
    "    with open(fname, 'w') as f:\n",
    "        writer = csv.writer(f)\n",
    "        writer.writerows(tmp)"
   ]
  },
  {
   "cell_type": "code",
   "execution_count": 38,
   "metadata": {},
   "outputs": [
    {
     "name": "stdout",
     "output_type": "stream",
     "text": [
      "training_set/training_set/cactus\\cactus_0028_0.jpg 1.0\n",
      "training_set/training_set/no_cactus\\Sinplanta.2677.jpg 0.0\n",
      "4000\n",
      "cactus_0181_18.jpg\n"
     ]
    }
   ],
   "source": [
    "train_X, train_Y = read_train_data()\n",
    "print(train_X[0], train_Y[0])\n",
    "print(train_X[15000], train_Y[15000])\n",
    "\n",
    "test_X = read_test_data()\n",
    "print(len(test_X))\n",
    "print(os.path.basename(test_X[0]))"
   ]
  },
  {
   "cell_type": "markdown",
   "metadata": {},
   "source": [
    "Here is an example to write a csv file with predictions on the test set.  These are random predictions."
   ]
  },
  {
   "cell_type": "code",
   "execution_count": 40,
   "metadata": {},
   "outputs": [],
   "source": [
    "# write your predictions on the test set\n",
    "dummy_test_X = [os.path.basename(x) for x in test_X]\n",
    "test_Y = random.randint(2, size=len(test_X))\n",
    "\n",
    "write_csv_kaggle_sub(\"my_submission.csv\", dummy_test_X, test_Y)"
   ]
  },
  {
   "cell_type": "markdown",
   "metadata": {},
   "source": [
    "# YOUR CODE and DOCUMENTATION HERE"
   ]
  },
  {
   "cell_type": "code",
   "execution_count": null,
   "metadata": {},
   "outputs": [],
   "source": []
  },
  {
   "cell_type": "raw",
   "metadata": {},
   "source": [
    "Epoch: 291 | Epoch Time: 0m 9s                                                                           \n",
    "        Train Loss: 0.001 | Train Acc: 99.92%\n",
    "         Val. Loss: 0.733 |  Val. Acc: 79.96%\n",
    "Epoch: 292 | Epoch Time: 0m 9s\n",
    "        Train Loss: 0.002 | Train Acc: 99.96%\n",
    "         Val. Loss: 0.737 |  Val. Acc: 81.03%\n",
    "Epoch: 293 | Epoch Time: 0m 9s\n",
    "        Train Loss: 0.003 | Train Acc: 99.87%\n",
    "         Val. Loss: 0.761 |  Val. Acc: 78.89%\n",
    "Epoch: 294 | Epoch Time: 0m 9s\n",
    "        Train Loss: 0.002 | Train Acc: 99.87%\n",
    "         Val. Loss: 0.768 |  Val. Acc: 80.84%\n",
    "Epoch: 295 | Epoch Time: 0m 9s\n",
    "        Train Loss: 0.005 | Train Acc: 99.75%\n",
    "         Val. Loss: 0.902 |  Val. Acc: 75.97%\n",
    "Epoch: 296 | Epoch Time: 0m 9s\n",
    "        Train Loss: 0.017 | Train Acc: 99.36%\n",
    "         Val. Loss: 0.782 |  Val. Acc: 78.70%\n",
    "Epoch: 297 | Epoch Time: 0m 9s\n",
    "        Train Loss: 0.005 | Train Acc: 99.79%\n",
    "         Val. Loss: 0.807 |  Val. Acc: 77.43%\n",
    "Epoch: 298 | Epoch Time: 0m 9s\n",
    "        Train Loss: 0.006 | Train Acc: 99.75%\n",
    "         Val. Loss: 0.800 |  Val. Acc: 79.18%\n",
    "Epoch: 299 | Epoch Time: 0m 9s\n",
    "        Train Loss: 0.007 | Train Acc: 99.70%\n",
    "         Val. Loss: 0.771 |  Val. Acc: 78.31%\n",
    "Epoch: 300 | Epoch Time: 0m 9s\n",
    "        Train Loss: 0.006 | Train Acc: 99.66%\n",
    "         Val. Loss: 0.729 |  Val. Acc: 79.28%\n",
    "Best Epoch: 291.000000\n",
    "Best Acc: 0.810311\n"
   ]
  },
  {
   "cell_type": "code",
   "execution_count": null,
   "metadata": {},
   "outputs": [],
   "source": []
  },
  {
   "cell_type": "code",
   "execution_count": null,
   "metadata": {},
   "outputs": [],
   "source": []
  }
 ],
 "metadata": {
  "anaconda-cloud": {},
  "kernelspec": {
   "display_name": "Python 3",
   "language": "python",
   "name": "python3"
  },
  "language_info": {
   "codemirror_mode": {
    "name": "ipython",
    "version": 3
   },
   "file_extension": ".py",
   "mimetype": "text/x-python",
   "name": "python",
   "nbconvert_exporter": "python",
   "pygments_lexer": "ipython3",
   "version": "3.8.5"
  }
 },
 "nbformat": 4,
 "nbformat_minor": 1
}
